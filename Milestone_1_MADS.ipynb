{
  "nbformat": 4,
  "nbformat_minor": 0,
  "metadata": {
    "colab": {
      "name": "Milestone 1 MADS.ipynb",
      "provenance": [],
      "collapsed_sections": [],
      "authorship_tag": "ABX9TyPmh00ZJ6Evj5RIBfL9eFcU",
      "include_colab_link": true
    },
    "kernelspec": {
      "name": "python3",
      "display_name": "Python 3"
    }
  },
  "cells": [
    {
      "cell_type": "markdown",
      "metadata": {
        "id": "view-in-github",
        "colab_type": "text"
      },
      "source": [
        "<a href=\"https://colab.research.google.com/github/jkess002/Discord-Bot-for-Stocks-and-Dota-Heroes/blob/master/Milestone_1_MADS.ipynb\" target=\"_parent\"><img src=\"https://colab.research.google.com/assets/colab-badge.svg\" alt=\"Open In Colab\"/></a>"
      ]
    },
    {
      "cell_type": "markdown",
      "metadata": {
        "id": "4eBGUid8n31q",
        "colab_type": "text"
      },
      "source": [
        "Project: Fantasy Football ADR vs Reality\n",
        "\n",
        "Authors: Joseph Kessler, Tyler Drumheller"
      ]
    },
    {
      "cell_type": "code",
      "metadata": {
        "id": "kfIgqv_in7U2",
        "colab_type": "code",
        "colab": {}
      },
      "source": [
        "import pandas as pd\n",
        "import numpy as np\n",
        "import matplotlib\n",
        "import matplotlib.pyplot as plt"
      ],
      "execution_count": 0,
      "outputs": []
    },
    {
      "cell_type": "code",
      "metadata": {
        "id": "PdxoHn_EouaT",
        "colab_type": "code",
        "colab": {}
      },
      "source": [
        "# webscraping from: https://fantasydata.com/nfl/fantasy-football-leaders for Fantasy Data (includes ADR, projections, and stats per game for various years)\n",
        "# kaggle site for data"
      ],
      "execution_count": 0,
      "outputs": []
    }
  ]
}